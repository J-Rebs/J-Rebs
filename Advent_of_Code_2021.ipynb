{
  "nbformat": 4,
  "nbformat_minor": 0,
  "metadata": {
    "colab": {
      "name": "Advent of Code 2021",
      "provenance": [],
      "collapsed_sections": [],
      "toc_visible": true,
      "authorship_tag": "ABX9TyMZPswQowmKqSqf/HKhhImK",
      "include_colab_link": true
    },
    "kernelspec": {
      "name": "python3",
      "display_name": "Python 3"
    },
    "language_info": {
      "name": "python"
    }
  },
  "cells": [
    {
      "cell_type": "markdown",
      "metadata": {
        "id": "view-in-github",
        "colab_type": "text"
      },
      "source": [
        "<a href=\"https://colab.research.google.com/github/J-Rebs/J-Rebs/blob/main/Advent_of_Code_2021.ipynb\" target=\"_parent\"><img src=\"https://colab.research.google.com/assets/colab-badge.svg\" alt=\"Open In Colab\"/></a>"
      ]
    },
    {
      "cell_type": "markdown",
      "metadata": {
        "id": "lvGgpMFJKque"
      },
      "source": [
        "# Introduction\n",
        "This notebook tracks my advent of code progress for 2021; for more information on the challenge see here: https://adventofcode.com/ \n",
        "# Day 1\n",
        "This report indicates that, scanning outward from the submarine, the sonar sweep found depths of 199, 200, 208, 210, and so on.\n",
        "\n",
        "The first order of business is to figure out how quickly the depth increases, just so you know what you're dealing with - you never know if the keys will get carried into deeper water by an ocean current or a fish or something.\n",
        "\n",
        "To do this, count the number of times a depth measurement increases from the previous measurement. (There is no measurement before the first measurement.) In the example above, the changes are as follows:\n",
        "\n",
        "199 (N/A - no previous measurement)\n",
        "\n",
        "200 (increased)\n",
        "\n",
        "208 (increased)\n",
        "\n",
        "210 (increased)\n",
        "\n",
        "200 (decreased)\n",
        "\n",
        "207 (increased)\n",
        "\n",
        "240 (increased)\n",
        "\n",
        "269 (increased)\n",
        "\n",
        "260 (decreased)\n",
        "\n",
        "263 (increased)\n",
        "\n",
        "In this example, there are 7 measurements that are larger than the previous measurement.\n",
        "\n",
        "How many measurements are larger than the previous measurement?\n",
        "\n",
        "(INPUT TEXT OMMITTED)\n"
      ]
    },
    {
      "cell_type": "code",
      "metadata": {
        "colab": {
          "base_uri": "https://localhost:8080/"
        },
        "id": "PJOAliW0KoCQ",
        "outputId": "d2123657-b4f9-431d-aaaa-a9e821a335d1"
      },
      "source": [
        "import itertools\n",
        "# get the file we need\n",
        "with open('/content/drive/My Drive/Advent2021/Input/day1.txt','r') as f:\n",
        "  lines = f.readlines()\n",
        "\n",
        "#put the values in an array\n",
        "depths = []\n",
        "for row in lines:\n",
        "  depths.append(int(row))\n",
        "\n",
        "counter = 0 \n",
        "#iterate over the depths \n",
        "i = 0\n",
        "while i < len(depths)-1:\n",
        "    currd = depths[i]\n",
        "    nextd = depths[i+1]\n",
        "    deltad = nextd - currd\n",
        "    if(deltad > 0):\n",
        "      counter += 1 \n",
        "    i += 1\n",
        "print(counter)\n"
      ],
      "execution_count": null,
      "outputs": [
        {
          "output_type": "stream",
          "name": "stdout",
          "text": [
            "1342\n"
          ]
        }
      ]
    },
    {
      "cell_type": "markdown",
      "metadata": {
        "id": "_Z5CYraSXr_T"
      },
      "source": [
        "# Day 2\n",
        "\n",
        "--- Day 2: Dive! ---\n",
        "\n",
        "Now, you need to figure out how to pilot this thing.\n",
        "\n",
        "It seems like the submarine can take a series of commands like forward 1, down 2, or up 3:\n",
        "\n",
        "    forward X increases the horizontal position by X units.\n",
        "    down X increases the depth by X units.\n",
        "    up X decreases the depth by X units.\n",
        "\n",
        "Note that since you're on a submarine, down and up affect your depth, and so they have the opposite result of what you might expect.\n",
        "\n",
        "The submarine seems to already have a planned course (your puzzle input). You should probably figure out where it's going. For example:\n",
        "\n",
        "forward 5\n",
        "down 5\n",
        "forward 8\n",
        "up 3\n",
        "down 8\n",
        "forward 2\n",
        "\n",
        "Your horizontal position and depth both start at 0. The steps above would then modify them as follows:\n",
        "\n",
        "    forward 5 adds 5 to your horizontal position, a total of 5.\n",
        "    down 5 adds 5 to your depth, resulting in a value of 5.\n",
        "    forward 8 adds 8 to your horizontal position, a total of 13.\n",
        "    up 3 decreases your depth by 3, resulting in a value of 2.\n",
        "    down 8 adds 8 to your depth, resulting in a value of 10.\n",
        "    forward 2 adds 2 to your horizontal position, a total of 15.\n",
        "\n",
        "After following these instructions, you would have a horizontal position of 15 and a depth of 10. (Multiplying these together produces 150.)\n",
        "\n",
        "Calculate the horizontal position and depth you would have after following the planned course. What do you get if you multiply your final horizontal position by your final depth?\n",
        "\n"
      ]
    },
    {
      "cell_type": "code",
      "source": [
        "import itertools\n",
        "\n",
        "# get the file we need\n",
        "with open('/content/drive/My Drive/Advent2021/Input/day2.txt','r') as f:\n",
        "  lines = f.readlines()\n",
        "\n",
        "#put the values in an array\n",
        "movements = []\n",
        "for row in lines:\n",
        "  movements.append(row)\n",
        "\n",
        "depth = 0 \n",
        "hpos = 0\n",
        "#iterate over the movements  \n",
        "i = 0\n",
        "while i < len(movements):\n",
        "  contents = movements[i].split(\" \")\n",
        "  if(contents[0] == 'forward'):\n",
        "    hpos += int(contents[1])\n",
        "  if(contents[0] == 'up'):\n",
        "    depth -= int(contents[1])\n",
        "  if(contents[0] == 'down'):\n",
        "    depth += int(contents[1])\n",
        "  i+=1\n",
        "\n",
        "print('depth is ', depth)\n",
        "print('horizontal position is ', hpos)\n",
        "print('depth * horizontal position is ', hpos*depth)"
      ],
      "metadata": {
        "colab": {
          "base_uri": "https://localhost:8080/"
        },
        "id": "JaMwQ-KLyNG_",
        "outputId": "28bfba1d-12ef-4e4e-b81e-44d6efb0876c"
      },
      "execution_count": 21,
      "outputs": [
        {
          "output_type": "stream",
          "name": "stdout",
          "text": [
            "depth is  1030\n",
            "horizontal position is  2010\n",
            "depth * horizontal position is  2070300\n"
          ]
        }
      ]
    },
    {
      "cell_type": "markdown",
      "source": [
        "It seems like the submarine can take a series of commands like forward 1, down 2, or up 3:\n",
        "\n",
        "    forward X increases the horizontal position by X units.\n",
        "    down X increases the depth by X units.\n",
        "    up X decreases the depth by X units.\n",
        "\n",
        "Note that since you're on a submarine, down and up affect your depth, and so they have the opposite result of what you might expect.\n",
        "\n",
        "The submarine seems to already have a planned course (your puzzle input). You should probably figure out where it's going. For example:\n",
        "\n",
        "forward 5\n",
        "down 5\n",
        "forward 8\n",
        "up 3\n",
        "down 8\n",
        "forward 2\n",
        "\n",
        "Your horizontal position and depth both start at 0. The steps above would then modify them as follows:\n",
        "\n",
        "    forward 5 adds 5 to your horizontal position, a total of 5.\n",
        "    down 5 adds 5 to your depth, resulting in a value of 5.\n",
        "    forward 8 adds 8 to your horizontal position, a total of 13.\n",
        "    up 3 decreases your depth by 3, resulting in a value of 2.\n",
        "    down 8 adds 8 to your depth, resulting in a value of 10.\n",
        "    forward 2 adds 2 to your horizontal position, a total of 15.\n",
        "\n",
        "After following these instructions, you would have a horizontal position of 15 and a depth of 10. (Multiplying these together produces 150.)\n",
        "\n",
        "Calculate the horizontal position and depth you would have after following the planned course. What do you get if you multiply your final horizontal position by your final depth?\n",
        "\n",
        "Your puzzle answer was 2070300.\n",
        "\n",
        "The first half of this puzzle is complete! It provides one gold star: *\n",
        "--- Part Two ---\n",
        "\n",
        "Based on your calculations, the planned course doesn't seem to make any sense. You find the submarine manual and discover that the process is actually slightly more complicated.\n",
        "\n",
        "In addition to horizontal position and depth, you'll also need to track a third value, aim, which also starts at 0. The commands also mean something entirely different than you first thought:\n",
        "\n",
        "    down X increases your aim by X units.\n",
        "    up X decreases your aim by X units.\n",
        "    forward X does two things:\n",
        "        It increases your horizontal position by X units.\n",
        "        It increases your depth by your aim multiplied by X.\n",
        "\n",
        "Again note that since you're on a submarine, down and up do the opposite of what you might expect: \"down\" means aiming in the positive direction.\n",
        "\n",
        "Now, the above example does something different:\n",
        "\n",
        "    forward 5 adds 5 to your horizontal position, a total of 5. Because your aim is 0, your depth does not change.\n",
        "    down 5 adds 5 to your aim, resulting in a value of 5.\n",
        "    forward 8 adds 8 to your horizontal position, a total of 13. Because your aim is 5, your depth increases by 8*5=40.\n",
        "    up 3 decreases your aim by 3, resulting in a value of 2.\n",
        "    down 8 adds 8 to your aim, resulting in a value of 10.\n",
        "    forward 2 adds 2 to your horizontal position, a total of 15. Because your aim is 10, your depth increases by 2*10=20 to a total of 60.\n",
        "\n",
        "After following these new instructions, you would have a horizontal position of 15 and a depth of 60. (Multiplying these produces 900.)\n",
        "\n",
        "Using this new interpretation of the commands, calculate the horizontal position and depth you would have after following the planned course. What do you get if you multiply your final horizontal position by your final depth?\n"
      ],
      "metadata": {
        "id": "NR5s7k5F3RRR"
      }
    },
    {
      "cell_type": "code",
      "source": [
        "#Same as above with slight modification\n",
        "import itertools\n",
        "\n",
        "# get the file we need\n",
        "with open('/content/drive/My Drive/Advent2021/Input/day2.txt','r') as f:\n",
        "  lines = f.readlines()\n",
        "\n",
        "#put the values in an array\n",
        "movements = []\n",
        "for row in lines:\n",
        "  movements.append(row)\n",
        "\n",
        "aim = 0 \n",
        "hpos = 0\n",
        "depth = 0\n",
        "#iterate over the movements  \n",
        "i = 0\n",
        "while i < len(movements):\n",
        "  contents = movements[i].split(\" \")\n",
        "  if(contents[0] == 'forward'):\n",
        "    hpos += int(contents[1])\n",
        "    depth += + aim*int(contents[1])\n",
        "  if(contents[0] == 'up'):\n",
        "    aim -= int(contents[1])\n",
        "  if(contents[0] == 'down'):\n",
        "    aim += int(contents[1])\n",
        "  i+=1\n",
        "\n",
        "print('depth is ', depth)\n",
        "print('horizontal position is ', hpos)\n",
        "print('depth * horizontal position is ', hpos*depth)"
      ],
      "metadata": {
        "colab": {
          "base_uri": "https://localhost:8080/"
        },
        "id": "CvojRhgM3So3",
        "outputId": "95ea31c7-f107-4562-e754-3420156a259c"
      },
      "execution_count": 25,
      "outputs": [
        {
          "output_type": "stream",
          "name": "stdout",
          "text": [
            "depth is  1034321\n",
            "horizontal position is  2010\n",
            "depth * horizontal position is  2078985210\n"
          ]
        }
      ]
    },
    {
      "cell_type": "markdown",
      "source": [
        "--- Day 3: Binary Diagnostic ---\n",
        "\n",
        "The submarine has been making some odd creaking noises, so you ask it to produce a diagnostic report just in case.\n",
        "\n",
        "The diagnostic report (your puzzle input) consists of a list of binary numbers which, when decoded properly, can tell you many useful things about the conditions of the submarine. The first parameter to check is the power consumption.\n",
        "\n",
        "You need to use the binary numbers in the diagnostic report to generate two new binary numbers (called the gamma rate and the epsilon rate). The power consumption can then be found by multiplying the gamma rate by the epsilon rate.\n",
        "\n",
        "Each bit in the gamma rate can be determined by finding the most common bit in the corresponding position of all numbers in the diagnostic report. For example, given the following diagnostic report:\n",
        "\n",
        "00100\n",
        "11110\n",
        "10110\n",
        "10111\n",
        "10101\n",
        "01111\n",
        "00111\n",
        "11100\n",
        "10000\n",
        "11001\n",
        "00010\n",
        "01010\n",
        "\n",
        "Considering only the first bit of each number, there are five 0 bits and seven 1 bits. Since the most common bit is 1, the first bit of the gamma rate is 1.\n",
        "\n",
        "The most common second bit of the numbers in the diagnostic report is 0, so the second bit of the gamma rate is 0.\n",
        "\n",
        "The most common value of the third, fourth, and fifth bits are 1, 1, and 0, respectively, and so the final three bits of the gamma rate are 110.\n",
        "\n",
        "So, the gamma rate is the binary number 10110, or 22 in decimal.\n",
        "\n",
        "The epsilon rate is calculated in a similar way; rather than use the most common bit, the least common bit from each position is used. So, the epsilon rate is 01001, or 9 in decimal. Multiplying the gamma rate (22) by the epsilon rate (9) produces the power consumption, 198.\n",
        "\n",
        "Use the binary numbers in your diagnostic report to calculate the gamma rate and epsilon rate, then multiply them together. What is the power consumption of the submarine? (Be sure to represent your answer in decimal, not binary.)\n"
      ],
      "metadata": {
        "id": "iWLIlTRK4glA"
      }
    }
  ]
}