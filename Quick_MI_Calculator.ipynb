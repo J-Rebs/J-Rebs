{
  "nbformat": 4,
  "nbformat_minor": 0,
  "metadata": {
    "colab": {
      "name": "Quick MI Calculator",
      "provenance": [],
      "authorship_tag": "ABX9TyM/zVZiWafLjO2BRuvH4Pns",
      "include_colab_link": true
    },
    "kernelspec": {
      "name": "python3",
      "display_name": "Python 3"
    },
    "language_info": {
      "name": "python"
    }
  },
  "cells": [
    {
      "cell_type": "markdown",
      "metadata": {
        "id": "view-in-github",
        "colab_type": "text"
      },
      "source": [
        "<a href=\"https://colab.research.google.com/github/J-Rebs/J-Rebs/blob/main/Quick_MI_Calculator.ipynb\" target=\"_parent\"><img src=\"https://colab.research.google.com/assets/colab-badge.svg\" alt=\"Open In Colab\"/></a>"
      ]
    },
    {
      "cell_type": "markdown",
      "metadata": {
        "id": "vkTl52JegLgi"
      },
      "source": [
        "This program is designed to help compute Multiplicative Inverses for non-negative numbers using Bezout's Coefficients. Valid inputs are a,b > 0. If you enter 0 or a == b. The system will exit. If you enter a,b < 0 then the program will take the absolute value of a and b.The program will also always have a mod b where a is the smaller of the two terms.\n",
        "\n",
        "Please note, this is also published at this link before migration to Google Colabs: https://www.online-python.com/wrvUiOBplm. This prior link is no longer maintained / updated.\n",
        "\n",
        "You can use the button above to open and run this program in Google Colabs.\n",
        "\n",
        "This program was completed as an independent, unsupervised side project to the coursework in COMSW3203 at Columbia University, Fall 2021. \n",
        "It employs techinques from:\n",
        "\n",
        "\n",
        "1.  Discrete Mathematics and Its Applications. McGraw-Hill Higher Education.\n",
        "2.  https://www.dcode.fr/bezout-identity\n",
        "\n"
      ]
    },
    {
      "cell_type": "code",
      "metadata": {
        "colab": {
          "base_uri": "https://localhost:8080/"
        },
        "id": "X0ITkM_pfqQ4",
        "outputId": "3146ae24-46b6-4ae8-867b-1f350b971d2a"
      },
      "source": [
        "import sys\n",
        "\n",
        "#Create a script to find your GCD -- accepts only positive numbers or takes abs \n",
        "def GCD(a, b):\n",
        "    a = abs(a)\n",
        "    b = abs(b)\n",
        "    #make sure bigger number first for GCD check \n",
        "    if(a > b):\n",
        "     big = a\n",
        "     small = b\n",
        "\n",
        "    if(b > a):\n",
        "     big = b\n",
        "     small = a\n",
        "    \n",
        "    if(a == b):\n",
        "     sys.exit(\"You entered the same number, please try again\")\n",
        "     \n",
        "    #compute the GCD \n",
        "    r = -1 \n",
        "    r_arr = [small]\n",
        "    r_quo = [0]\n",
        "    while not (r == 0):\n",
        "        x = 1; \n",
        "        temp = 1; \n",
        "        while (small*x < big):\n",
        "            if(small*(x+1) > big):\n",
        "                break;\n",
        "            x = x+1 \n",
        "        r = big - small*x \n",
        "        r_quo.append(x)\n",
        "        r_arr.append(r)\n",
        "        big = small\n",
        "        small = r \n",
        "    print('GCD of ' + str(a) + ' and ' + str(b) + ' is ' + str(big))\n",
        "    return big, r_arr, r_quo\n",
        "\n",
        "#Compute your MI - only with positive values or take abs \n",
        "def MultiInv():\n",
        "    a = int(input('Enter 1st number : '))\n",
        "    m = int(input('Enter what number you want to take the modulo of that for: '))\n",
        "\n",
        "    if(a == 0):\n",
        "      sys.exit(\"You entered 0 for a or b, please try again\")\n",
        "      \n",
        "    if(m == 0):\n",
        "      print(\"You have entered 0, which is not an acceptable input - try again\")\n",
        "      sys.exit(\"You entered 0 for b, please try again\")\n",
        "\n",
        "    a = abs(a)\n",
        "    m = abs(m)\n",
        "    #Confirm that your items have gcd(1)\n",
        "    gval, r_arr, r_quo = GCD(a,m)\n",
        "    if(gval != 1):\n",
        "        print(\"Hey this makes me do more work and technically there is no MI since gcd isnt 1, so we are gonna stop this work\")\n",
        "        quit()\n",
        "    else:\n",
        "        u = 1\n",
        "        uInv = 0\n",
        "        v = 0\n",
        "        vInv = 1\n",
        "        for q in r_quo:\n",
        "            utemp = u\n",
        "            vtemp = v\n",
        "            u = uInv\n",
        "            v = vInv\n",
        "            uInv = utemp - q*uInv\n",
        "            vInv = vtemp - q*vInv \n",
        "            print({q}, ' ', {u}, ' ', {uInv}, ' ', {v}, ' ', {vInv})\n",
        "\n",
        "    return u, v\n",
        "\n",
        "print(\"Hey, lets compute some Multiplicative Inverses\")\n",
        "print(\"Note the methods used for the BZ coefficients in this program come from the following URL:\")\n",
        "print(\"https://www.dcode.fr/bezout-identity\")\n",
        "u, v = MultiInv()\n",
        "print(\"BZ coefficients are : \" + str(u) + ' ' + str(v))\n",
        "print(\"In specific your MI is: \" + str(u))\n",
        "\n",
        "    "
      ],
      "execution_count": 2,
      "outputs": [
        {
          "output_type": "stream",
          "name": "stdout",
          "text": [
            "Hey, lets compute some Multiplicative Inverses\n",
            "Note the methods used for the BZ coefficients in this program come from the following URL:\n",
            "https://www.dcode.fr/bezout-identity\n",
            "Enter 1st number : 31\n",
            "Enter what number you want to take the modulo of that for: 4000\n",
            "GCD of 31 and 4000 is 1\n",
            "{0}   {0}   {1}   {1}   {0}\n",
            "{129}   {1}   {-129}   {0}   {1}\n",
            "{31}   {-129}   {4000}   {1}   {-31}\n",
            "BZ coefficients are : -129 1\n",
            "In specific your MI is: -129\n"
          ]
        }
      ]
    }
  ]
}
